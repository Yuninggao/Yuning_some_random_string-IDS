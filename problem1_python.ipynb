{
  "nbformat": 4,
  "nbformat_minor": 0,
  "metadata": {
    "colab": {
      "name": "problem1_python.ipynb",
      "provenance": [],
      "toc_visible": true,
      "authorship_tag": "ABX9TyMPGWJrBuwZ11GKO0ZdDiOC",
      "include_colab_link": true
    },
    "kernelspec": {
      "name": "python3",
      "display_name": "Python 3"
    },
    "language_info": {
      "name": "python"
    }
  },
  "cells": [
    {
      "cell_type": "markdown",
      "metadata": {
        "id": "view-in-github",
        "colab_type": "text"
      },
      "source": [
        "<a href=\"https://colab.research.google.com/github/Yuninggao/Yuning_some_random_string-IDS/blob/main/problem1_python.ipynb\" target=\"_parent\"><img src=\"https://colab.research.google.com/assets/colab-badge.svg\" alt=\"Open In Colab\"/></a>"
      ]
    },
    {
      "cell_type": "code",
      "execution_count": 1,
      "metadata": {
        "id": "UNQOhzGQ78Fl"
      },
      "outputs": [],
      "source": [
        "import pandas as pd"
      ]
    },
    {
      "cell_type": "markdown",
      "source": [
        "import library"
      ],
      "metadata": {
        "id": "gTYgXsdb8T2L"
      }
    },
    {
      "cell_type": "code",
      "source": [
        "df1 = pd.DataFrame(\"\")"
      ],
      "metadata": {
        "id": "gCkHtCi78NVD"
      },
      "execution_count": null,
      "outputs": []
    }
  ]
}