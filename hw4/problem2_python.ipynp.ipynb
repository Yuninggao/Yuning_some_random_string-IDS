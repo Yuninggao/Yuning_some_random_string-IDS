{
 "cells": [
  {
   "cell_type": "code",
   "execution_count": 18,
   "id": "2f7cc5d0",
   "metadata": {},
   "outputs": [
    {
     "data": {
      "text/html": [
       "<div>\n",
       "<style scoped>\n",
       "    .dataframe tbody tr th:only-of-type {\n",
       "        vertical-align: middle;\n",
       "    }\n",
       "\n",
       "    .dataframe tbody tr th {\n",
       "        vertical-align: top;\n",
       "    }\n",
       "\n",
       "    .dataframe thead th {\n",
       "        text-align: right;\n",
       "    }\n",
       "</style>\n",
       "<table border=\"1\" class=\"dataframe\">\n",
       "  <thead>\n",
       "    <tr style=\"text-align: right;\">\n",
       "      <th></th>\n",
       "      <th>food item</th>\n",
       "      <th>weight_in_grams</th>\n",
       "      <th>saturated_fat</th>\n",
       "      <th>cholesterol</th>\n",
       "    </tr>\n",
       "  </thead>\n",
       "  <tbody>\n",
       "    <tr>\n",
       "      <th>0</th>\n",
       "      <td>GELATIN; DRY                  1 ENVELP</td>\n",
       "      <td>7.00</td>\n",
       "      <td>0.0</td>\n",
       "      <td>0</td>\n",
       "    </tr>\n",
       "    <tr>\n",
       "      <th>1</th>\n",
       "      <td>SEAWEED; SPIRULINA; DRIED     1 OZ</td>\n",
       "      <td>28.35</td>\n",
       "      <td>0.8</td>\n",
       "      <td>0</td>\n",
       "    </tr>\n",
       "    <tr>\n",
       "      <th>2</th>\n",
       "      <td>YEAST; BAKERS; DRY; ACTIVE    1 PKG</td>\n",
       "      <td>7.00</td>\n",
       "      <td>0.0</td>\n",
       "      <td>0</td>\n",
       "    </tr>\n",
       "    <tr>\n",
       "      <th>3</th>\n",
       "      <td>PARMESAN CHEESE; GRATED       1 OZ</td>\n",
       "      <td>28.35</td>\n",
       "      <td>5.4</td>\n",
       "      <td>22</td>\n",
       "    </tr>\n",
       "    <tr>\n",
       "      <th>4</th>\n",
       "      <td>PARMESAN CHEESE; GRATED       1 CUP</td>\n",
       "      <td>100.00</td>\n",
       "      <td>19.1</td>\n",
       "      <td>79</td>\n",
       "    </tr>\n",
       "    <tr>\n",
       "      <th>...</th>\n",
       "      <td>...</td>\n",
       "      <td>...</td>\n",
       "      <td>...</td>\n",
       "      <td>...</td>\n",
       "    </tr>\n",
       "    <tr>\n",
       "      <th>956</th>\n",
       "      <td>COFFEE; BREWED                6 FL OZ</td>\n",
       "      <td>180.00</td>\n",
       "      <td>0.0</td>\n",
       "      <td>0</td>\n",
       "    </tr>\n",
       "    <tr>\n",
       "      <th>957</th>\n",
       "      <td>TEA; BREWED                   8 FL OZ</td>\n",
       "      <td>240.00</td>\n",
       "      <td>0.0</td>\n",
       "      <td>0</td>\n",
       "    </tr>\n",
       "    <tr>\n",
       "      <th>958</th>\n",
       "      <td>TEA; INSTANT;PREPRD;UNSWEETEND8 FL OZ</td>\n",
       "      <td>241.00</td>\n",
       "      <td>0.0</td>\n",
       "      <td>0</td>\n",
       "    </tr>\n",
       "    <tr>\n",
       "      <th>959</th>\n",
       "      <td>LETTUCE; BUTTERHEAD; RAW;LEAVE1 LEAF</td>\n",
       "      <td>15.00</td>\n",
       "      <td>0.0</td>\n",
       "      <td>0</td>\n",
       "    </tr>\n",
       "    <tr>\n",
       "      <th>960</th>\n",
       "      <td>SALT                          1 TSP</td>\n",
       "      <td>5.50</td>\n",
       "      <td>0.0</td>\n",
       "      <td>0</td>\n",
       "    </tr>\n",
       "  </tbody>\n",
       "</table>\n",
       "<p>961 rows × 4 columns</p>\n",
       "</div>"
      ],
      "text/plain": [
       "                                  food item  weight_in_grams  saturated_fat  \\\n",
       "0    GELATIN; DRY                  1 ENVELP             7.00            0.0   \n",
       "1    SEAWEED; SPIRULINA; DRIED     1 OZ                28.35            0.8   \n",
       "2    YEAST; BAKERS; DRY; ACTIVE    1 PKG                7.00            0.0   \n",
       "3    PARMESAN CHEESE; GRATED       1 OZ                28.35            5.4   \n",
       "4    PARMESAN CHEESE; GRATED       1 CUP              100.00           19.1   \n",
       "..                                      ...              ...            ...   \n",
       "956  COFFEE; BREWED                6 FL OZ            180.00            0.0   \n",
       "957  TEA; BREWED                   8 FL OZ            240.00            0.0   \n",
       "958  TEA; INSTANT;PREPRD;UNSWEETEND8 FL OZ            241.00            0.0   \n",
       "959  LETTUCE; BUTTERHEAD; RAW;LEAVE1 LEAF              15.00            0.0   \n",
       "960  SALT                          1 TSP                5.50            0.0   \n",
       "\n",
       "     cholesterol  \n",
       "0              0  \n",
       "1              0  \n",
       "2              0  \n",
       "3             22  \n",
       "4             79  \n",
       "..           ...  \n",
       "956            0  \n",
       "957            0  \n",
       "958            0  \n",
       "959            0  \n",
       "960            0  \n",
       "\n",
       "[961 rows x 4 columns]"
      ]
     },
     "execution_count": 18,
     "metadata": {},
     "output_type": "execute_result"
    }
   ],
   "source": [
    "# read the nutrition file\n",
    "\n",
    "import pandas as pd\n",
    "\n",
    "\n",
    "df  = pd.read_csv(\"nutrition_subset.csv\");\n",
    "\n",
    "df"
   ]
  },
  {
   "cell_type": "code",
   "execution_count": 19,
   "id": "c71406e6",
   "metadata": {},
   "outputs": [
    {
     "data": {
      "text/html": [
       "<div>\n",
       "<style scoped>\n",
       "    .dataframe tbody tr th:only-of-type {\n",
       "        vertical-align: middle;\n",
       "    }\n",
       "\n",
       "    .dataframe tbody tr th {\n",
       "        vertical-align: top;\n",
       "    }\n",
       "\n",
       "    .dataframe thead th {\n",
       "        text-align: right;\n",
       "    }\n",
       "</style>\n",
       "<table border=\"1\" class=\"dataframe\">\n",
       "  <thead>\n",
       "    <tr style=\"text-align: right;\">\n",
       "      <th></th>\n",
       "      <th>food item</th>\n",
       "      <th>weight_in_grams</th>\n",
       "      <th>saturated_fat</th>\n",
       "      <th>cholesterol</th>\n",
       "    </tr>\n",
       "  </thead>\n",
       "  <tbody>\n",
       "    <tr>\n",
       "      <th>378</th>\n",
       "      <td>CHEESECAKE                    1 CAKE</td>\n",
       "      <td>1110.0</td>\n",
       "      <td>119.9</td>\n",
       "      <td>2053</td>\n",
       "    </tr>\n",
       "    <tr>\n",
       "      <th>535</th>\n",
       "      <td>ICE CREAM; VANLLA; RICH 16% FT1/2 GAL</td>\n",
       "      <td>1188.0</td>\n",
       "      <td>118.3</td>\n",
       "      <td>703</td>\n",
       "    </tr>\n",
       "    <tr>\n",
       "      <th>458</th>\n",
       "      <td>YELLOWCAKE W/ CHOCFRSTNG;COMML1 CAKE</td>\n",
       "      <td>1108.0</td>\n",
       "      <td>92.0</td>\n",
       "      <td>609</td>\n",
       "    </tr>\n",
       "    <tr>\n",
       "      <th>581</th>\n",
       "      <td>CREME PIE                     1 PIE</td>\n",
       "      <td>910.0</td>\n",
       "      <td>90.1</td>\n",
       "      <td>46</td>\n",
       "    </tr>\n",
       "    <tr>\n",
       "      <th>890</th>\n",
       "      <td>LARD                          1 CUP</td>\n",
       "      <td>205.0</td>\n",
       "      <td>80.4</td>\n",
       "      <td>195</td>\n",
       "    </tr>\n",
       "  </tbody>\n",
       "</table>\n",
       "</div>"
      ],
      "text/plain": [
       "                                  food item  weight_in_grams  saturated_fat  \\\n",
       "378  CHEESECAKE                    1 CAKE             1110.0          119.9   \n",
       "535  ICE CREAM; VANLLA; RICH 16% FT1/2 GAL            1188.0          118.3   \n",
       "458  YELLOWCAKE W/ CHOCFRSTNG;COMML1 CAKE             1108.0           92.0   \n",
       "581  CREME PIE                     1 PIE               910.0           90.1   \n",
       "890  LARD                          1 CUP               205.0           80.4   \n",
       "\n",
       "     cholesterol  \n",
       "378         2053  \n",
       "535          703  \n",
       "458          609  \n",
       "581           46  \n",
       "890          195  "
      ]
     },
     "execution_count": 19,
     "metadata": {},
     "output_type": "execute_result"
    }
   ],
   "source": [
    "# filter 5 highest food in saturate-fat\n",
    "# A cheesecake had the most saturated-fat at 119.9. \n",
    "# Vanilla ice cream had the second highest at 118.2 for a 0.5 gallon ice cream. \n",
    "# Yellowcake with chocolate frosting was the third-highest at 92 in saturated fat for one cake. \n",
    "# The fourth-highest is cream pie at 90.1 saturated-fat for one pie. \n",
    "# Lard is the fifth-highest, at 80.4 for one cup. \n",
    "\n",
    "df.nlargest(5, ['saturated_fat'])\n"
   ]
  },
  {
   "cell_type": "code",
   "execution_count": 45,
   "id": "bb587dca",
   "metadata": {},
   "outputs": [
    {
     "data": {
      "text/html": [
       "<div>\n",
       "<style scoped>\n",
       "    .dataframe tbody tr th:only-of-type {\n",
       "        vertical-align: middle;\n",
       "    }\n",
       "\n",
       "    .dataframe tbody tr th {\n",
       "        vertical-align: top;\n",
       "    }\n",
       "\n",
       "    .dataframe thead th {\n",
       "        text-align: right;\n",
       "    }\n",
       "</style>\n",
       "<table border=\"1\" class=\"dataframe\">\n",
       "  <thead>\n",
       "    <tr style=\"text-align: right;\">\n",
       "      <th></th>\n",
       "      <th>food item</th>\n",
       "      <th>weight_in_grams</th>\n",
       "      <th>saturated_fat</th>\n",
       "      <th>cholesterol</th>\n",
       "      <th>saturated_fat_per_gram</th>\n",
       "    </tr>\n",
       "  </thead>\n",
       "  <tbody>\n",
       "    <tr>\n",
       "      <th>0</th>\n",
       "      <td>GELATIN; DRY                  1 ENVELP</td>\n",
       "      <td>7.00</td>\n",
       "      <td>0.0</td>\n",
       "      <td>0</td>\n",
       "      <td>0.000000</td>\n",
       "    </tr>\n",
       "    <tr>\n",
       "      <th>1</th>\n",
       "      <td>SEAWEED; SPIRULINA; DRIED     1 OZ</td>\n",
       "      <td>28.35</td>\n",
       "      <td>0.8</td>\n",
       "      <td>0</td>\n",
       "      <td>0.028219</td>\n",
       "    </tr>\n",
       "    <tr>\n",
       "      <th>2</th>\n",
       "      <td>YEAST; BAKERS; DRY; ACTIVE    1 PKG</td>\n",
       "      <td>7.00</td>\n",
       "      <td>0.0</td>\n",
       "      <td>0</td>\n",
       "      <td>0.000000</td>\n",
       "    </tr>\n",
       "    <tr>\n",
       "      <th>3</th>\n",
       "      <td>PARMESAN CHEESE; GRATED       1 OZ</td>\n",
       "      <td>28.35</td>\n",
       "      <td>5.4</td>\n",
       "      <td>22</td>\n",
       "      <td>0.190476</td>\n",
       "    </tr>\n",
       "    <tr>\n",
       "      <th>4</th>\n",
       "      <td>PARMESAN CHEESE; GRATED       1 CUP</td>\n",
       "      <td>100.00</td>\n",
       "      <td>19.1</td>\n",
       "      <td>79</td>\n",
       "      <td>0.191000</td>\n",
       "    </tr>\n",
       "    <tr>\n",
       "      <th>...</th>\n",
       "      <td>...</td>\n",
       "      <td>...</td>\n",
       "      <td>...</td>\n",
       "      <td>...</td>\n",
       "      <td>...</td>\n",
       "    </tr>\n",
       "    <tr>\n",
       "      <th>956</th>\n",
       "      <td>COFFEE; BREWED                6 FL OZ</td>\n",
       "      <td>180.00</td>\n",
       "      <td>0.0</td>\n",
       "      <td>0</td>\n",
       "      <td>0.000000</td>\n",
       "    </tr>\n",
       "    <tr>\n",
       "      <th>957</th>\n",
       "      <td>TEA; BREWED                   8 FL OZ</td>\n",
       "      <td>240.00</td>\n",
       "      <td>0.0</td>\n",
       "      <td>0</td>\n",
       "      <td>0.000000</td>\n",
       "    </tr>\n",
       "    <tr>\n",
       "      <th>958</th>\n",
       "      <td>TEA; INSTANT;PREPRD;UNSWEETEND8 FL OZ</td>\n",
       "      <td>241.00</td>\n",
       "      <td>0.0</td>\n",
       "      <td>0</td>\n",
       "      <td>0.000000</td>\n",
       "    </tr>\n",
       "    <tr>\n",
       "      <th>959</th>\n",
       "      <td>LETTUCE; BUTTERHEAD; RAW;LEAVE1 LEAF</td>\n",
       "      <td>15.00</td>\n",
       "      <td>0.0</td>\n",
       "      <td>0</td>\n",
       "      <td>0.000000</td>\n",
       "    </tr>\n",
       "    <tr>\n",
       "      <th>960</th>\n",
       "      <td>SALT                          1 TSP</td>\n",
       "      <td>5.50</td>\n",
       "      <td>0.0</td>\n",
       "      <td>0</td>\n",
       "      <td>0.000000</td>\n",
       "    </tr>\n",
       "  </tbody>\n",
       "</table>\n",
       "<p>961 rows × 5 columns</p>\n",
       "</div>"
      ],
      "text/plain": [
       "                                  food item  weight_in_grams  saturated_fat  \\\n",
       "0    GELATIN; DRY                  1 ENVELP             7.00            0.0   \n",
       "1    SEAWEED; SPIRULINA; DRIED     1 OZ                28.35            0.8   \n",
       "2    YEAST; BAKERS; DRY; ACTIVE    1 PKG                7.00            0.0   \n",
       "3    PARMESAN CHEESE; GRATED       1 OZ                28.35            5.4   \n",
       "4    PARMESAN CHEESE; GRATED       1 CUP              100.00           19.1   \n",
       "..                                      ...              ...            ...   \n",
       "956  COFFEE; BREWED                6 FL OZ            180.00            0.0   \n",
       "957  TEA; BREWED                   8 FL OZ            240.00            0.0   \n",
       "958  TEA; INSTANT;PREPRD;UNSWEETEND8 FL OZ            241.00            0.0   \n",
       "959  LETTUCE; BUTTERHEAD; RAW;LEAVE1 LEAF              15.00            0.0   \n",
       "960  SALT                          1 TSP                5.50            0.0   \n",
       "\n",
       "     cholesterol  saturated_fat_per_gram  \n",
       "0              0                0.000000  \n",
       "1              0                0.028219  \n",
       "2              0                0.000000  \n",
       "3             22                0.190476  \n",
       "4             79                0.191000  \n",
       "..           ...                     ...  \n",
       "956            0                0.000000  \n",
       "957            0                0.000000  \n",
       "958            0                0.000000  \n",
       "959            0                0.000000  \n",
       "960            0                0.000000  \n",
       "\n",
       "[961 rows x 5 columns]"
      ]
     },
     "execution_count": 45,
     "metadata": {},
     "output_type": "execute_result"
    }
   ],
   "source": [
    "# create a new variable to insert the new column as saturated_fat_per_gram to the DataFrame\n",
    "\n",
    "per_gram=df.saturated_fat/df.weight_in_grams\n",
    "\n",
    "df.insert(4,\"saturated_fat_per_gram\",per_gram)\n",
    "\n",
    "df\n"
   ]
  },
  {
   "cell_type": "code",
   "execution_count": 39,
   "id": "4beeca1a",
   "metadata": {},
   "outputs": [
    {
     "data": {
      "text/html": [
       "<div>\n",
       "<style scoped>\n",
       "    .dataframe tbody tr th:only-of-type {\n",
       "        vertical-align: middle;\n",
       "    }\n",
       "\n",
       "    .dataframe tbody tr th {\n",
       "        vertical-align: top;\n",
       "    }\n",
       "\n",
       "    .dataframe thead th {\n",
       "        text-align: right;\n",
       "    }\n",
       "</style>\n",
       "<table border=\"1\" class=\"dataframe\">\n",
       "  <thead>\n",
       "    <tr style=\"text-align: right;\">\n",
       "      <th></th>\n",
       "      <th>food item</th>\n",
       "      <th>weight_in_grams</th>\n",
       "      <th>saturated_fat</th>\n",
       "      <th>cholesterol</th>\n",
       "      <th>saturated_fat_per_gram</th>\n",
       "    </tr>\n",
       "  </thead>\n",
       "  <tbody>\n",
       "    <tr>\n",
       "      <th>908</th>\n",
       "      <td>BUTTER; SALTED                1 TBSP</td>\n",
       "      <td>14.0</td>\n",
       "      <td>7.1</td>\n",
       "      <td>31</td>\n",
       "      <td>0.507143</td>\n",
       "    </tr>\n",
       "    <tr>\n",
       "      <th>909</th>\n",
       "      <td>BUTTER; UNSALTED              1 TBSP</td>\n",
       "      <td>14.0</td>\n",
       "      <td>7.1</td>\n",
       "      <td>31</td>\n",
       "      <td>0.507143</td>\n",
       "    </tr>\n",
       "    <tr>\n",
       "      <th>709</th>\n",
       "      <td>BUTTER; SALTED                1/2 CUP</td>\n",
       "      <td>113.0</td>\n",
       "      <td>57.1</td>\n",
       "      <td>247</td>\n",
       "      <td>0.505310</td>\n",
       "    </tr>\n",
       "    <tr>\n",
       "      <th>710</th>\n",
       "      <td>BUTTER; UNSALTED              1/2 CUP</td>\n",
       "      <td>113.0</td>\n",
       "      <td>57.1</td>\n",
       "      <td>247</td>\n",
       "      <td>0.505310</td>\n",
       "    </tr>\n",
       "    <tr>\n",
       "      <th>912</th>\n",
       "      <td>BUTTER; SALTED                1 PAT</td>\n",
       "      <td>5.0</td>\n",
       "      <td>2.5</td>\n",
       "      <td>11</td>\n",
       "      <td>0.500000</td>\n",
       "    </tr>\n",
       "  </tbody>\n",
       "</table>\n",
       "</div>"
      ],
      "text/plain": [
       "                                  food item  weight_in_grams  saturated_fat  \\\n",
       "908  BUTTER; SALTED                1 TBSP               14.0            7.1   \n",
       "909  BUTTER; UNSALTED              1 TBSP               14.0            7.1   \n",
       "709  BUTTER; SALTED                1/2 CUP             113.0           57.1   \n",
       "710  BUTTER; UNSALTED              1/2 CUP             113.0           57.1   \n",
       "912  BUTTER; SALTED                1 PAT                 5.0            2.5   \n",
       "\n",
       "     cholesterol  saturated_fat_per_gram  \n",
       "908           31                0.507143  \n",
       "909           31                0.507143  \n",
       "709          247                0.505310  \n",
       "710          247                0.505310  \n",
       "912           11                0.500000  "
      ]
     },
     "execution_count": 39,
     "metadata": {},
     "output_type": "execute_result"
    }
   ],
   "source": [
    "# find 5 highest saturated_fat per gram\n",
    "\n",
    "df.nlargest(5, ['saturated_fat_per_gram'])"
   ]
  },
  {
   "cell_type": "code",
   "execution_count": 73,
   "id": "aeb0edcb",
   "metadata": {},
   "outputs": [
    {
     "data": {
      "image/png": "[encoded data removed]",
      "text/plain": [
       "<Figure size 432x288 with 1 Axes>"
      ]
     },
     "metadata": {
      "needs_background": "light"
     },
     "output_type": "display_data"
    }
   ],
   "source": [
    "\n",
    "\n",
    "# Compute the z score of Compute the z score of  saturated_fat_per_gram value in the sample, \n",
    "#relative to the sample mean and standard deviation.\n",
    "\n",
    "from scipy import stats\n",
    "import matplotlib.pyplot as plt\n",
    "\n",
    "\n",
    "df['saturated_fat_per_gram'] = stats.zscore(df.saturated_fat_per_gram, nan_policy='omit')\n",
    "\n",
    "df.saturated_fat_per_gram.plot.density(color=\"blue\")\n",
    "plt.title('Density plot for Scaled saturated_fat_per_gram')\n",
    "plt.show()\n",
    "\n",
    "\n",
    "    \n",
    "\n"
   ]
  },
  {
   "cell_type": "code",
   "execution_count": 74,
   "id": "d69278db",
   "metadata": {},
   "outputs": [
    {
     "data": {
      "text/plain": [
       "count    9.610000e+02\n",
       "mean    -5.175649e-17\n",
       "std      1.000521e+00\n",
       "min     -5.623352e-01\n",
       "25%     -5.623352e-01\n",
       "50%     -4.412993e-01\n",
       "75%      1.539996e-01\n",
       "max      7.110475e+00\n",
       "Name: saturated_fat_per_gram, dtype: float64"
      ]
     },
     "execution_count": 74,
     "metadata": {},
     "output_type": "execute_result"
    }
   ],
   "source": [
    "#  Recall standard-scaled column 'saturated_fat_per_gram'  \n",
    "df['saturated_fat_per_gram'].describe()"
   ]
  },
  {
   "cell_type": "code",
   "execution_count": 77,
   "id": "4a9afb57",
   "metadata": {},
   "outputs": [
    {
     "data": {
      "text/plain": [
       "210    4.240676\n",
       "448    3.938687\n",
       "492    4.204266\n",
       "576    3.942889\n",
       "709    7.082741\n",
       "710    7.082741\n",
       "890    5.371375\n",
       "898    3.278227\n",
       "899    5.373078\n",
       "907    3.223726\n",
       "908    7.110475\n",
       "909    7.110475\n",
       "912    7.002408\n",
       "913    7.002408\n",
       "920    4.732985\n",
       "Name: saturated_fat_per_gram, dtype: float64"
      ]
     },
     "execution_count": 77,
     "metadata": {},
     "output_type": "execute_result"
    }
   ],
   "source": [
    "# find  outlier at high end of scale\n",
    "df_outliers_highEnd = df.query('( saturated_fat_per_gram > 3)')['saturated_fat_per_gram']\n",
    "\n",
    "df_outliers_highEnd\n"
   ]
  },
  {
   "cell_type": "code",
   "execution_count": 79,
   "id": "9d379ba6",
   "metadata": {},
   "outputs": [
    {
     "data": {
      "text/plain": [
       "Series([], Name: saturated_fat_per_gram, dtype: float64)"
      ]
     },
     "execution_count": 79,
     "metadata": {},
     "output_type": "execute_result"
    }
   ],
   "source": [
    "# find  outlier at low end of scale\n",
    "df_outliers_lowEnd = df.query('( saturated_fat_per_gram < -3)')['saturated_fat_per_gram']\n",
    "\n",
    "df_outliers_lowEnd"
   ]
  },
  {
   "cell_type": "code",
   "execution_count": 80,
   "id": "56f86991",
   "metadata": {},
   "outputs": [
    {
     "data": {
      "image/png": "[encoded data removed]",
      "text/plain": [
       "<Figure size 432x288 with 1 Axes>"
      ]
     },
     "metadata": {
      "needs_background": "light"
     },
     "output_type": "display_data"
    }
   ],
   "source": [
    "# show the density\n",
    "df_outliers_highEnd.plot.density()\n",
    "plt.title('Density Plot for Scaled saturated_fat_per_gram Outliers')\n",
    "plt.show()\n"
   ]
  },
  {
   "cell_type": "code",
   "execution_count": 82,
   "id": "0c940494",
   "metadata": {},
   "outputs": [
    {
     "data": {
      "text/plain": [
       "0     -0.562335\n",
       "1     -0.135401\n",
       "2     -0.562335\n",
       "3      2.319472\n",
       "4      2.327397\n",
       "         ...   \n",
       "956   -0.562335\n",
       "957   -0.562335\n",
       "958   -0.562335\n",
       "959   -0.562335\n",
       "960   -0.562335\n",
       "Name: saturated_fat_per_gram, Length: 961, dtype: float64"
      ]
     },
     "execution_count": 82,
     "metadata": {},
     "output_type": "execute_result"
    }
   ],
   "source": [
    "#  try mean to replace missing value\n",
    "\n",
    "from sklearn.impute import SimpleImputer\n",
    "import numpy as np\n",
    "\n",
    "\n",
    "imputer = SimpleImputer(missing_values=0, strategy='mean')\n",
    "\n",
    "df.saturated_fat_per_gram  = imputer.fit_transform(df['saturated_fat_per_gram'].values.reshape(-1,1))[:,0]\n",
    "\n",
    "df.saturated_fat_per_gram \n"
   ]
  },
  {
   "cell_type": "code",
   "execution_count": 83,
   "id": "77602bdb",
   "metadata": {},
   "outputs": [
    {
     "data": {
      "text/plain": [
       "0     -0.809983\n",
       "1     -0.688550\n",
       "2     -0.809983\n",
       "3     -0.688550\n",
       "4     -0.281026\n",
       "         ...   \n",
       "956    0.173991\n",
       "957    0.515253\n",
       "958    0.520941\n",
       "959   -0.764481\n",
       "960   -0.818514\n",
       "Name: weight_in_grams, Length: 961, dtype: float64"
      ]
     },
     "execution_count": 83,
     "metadata": {},
     "output_type": "execute_result"
    }
   ],
   "source": [
    "# show Standardize of weight_in_grams\n",
    "from scipy import stats\n",
    "import matplotlib.pyplot as plt\n",
    "\n",
    "\n",
    "df['weight_in_grams'] = stats.zscore(df.weight_in_grams, nan_policy='omit')\n",
    "df.weight_in_grams"
   ]
  },
  {
   "cell_type": "code",
   "execution_count": 84,
   "id": "e23b2650",
   "metadata": {},
   "outputs": [
    {
     "data": {
      "text/plain": [
       "0     -0.371329\n",
       "1     -0.296833\n",
       "2     -0.371329\n",
       "3      0.131522\n",
       "4      1.407274\n",
       "         ...   \n",
       "956   -0.371329\n",
       "957   -0.371329\n",
       "958   -0.371329\n",
       "959   -0.371329\n",
       "960   -0.371329\n",
       "Name: saturated_fat, Length: 961, dtype: float64"
      ]
     },
     "execution_count": 84,
     "metadata": {},
     "output_type": "execute_result"
    }
   ],
   "source": [
    "# show Standardize of saturated_fat\n",
    "df['saturated_fat'] = stats.zscore(df.saturated_fat, nan_policy='omit')\n",
    "df.saturated_fat"
   ]
  },
  {
   "cell_type": "code",
   "execution_count": 85,
   "id": "eca1c97a",
   "metadata": {},
   "outputs": [
    {
     "data": {
      "text/plain": [
       "0     -0.271510\n",
       "1     -0.271510\n",
       "2     -0.271510\n",
       "3     -0.088021\n",
       "4      0.387382\n",
       "         ...   \n",
       "956   -0.271510\n",
       "957   -0.271510\n",
       "958   -0.271510\n",
       "959   -0.271510\n",
       "960   -0.271510\n",
       "Name: cholesterol, Length: 961, dtype: float64"
      ]
     },
     "execution_count": 85,
     "metadata": {},
     "output_type": "execute_result"
    }
   ],
   "source": [
    "# show Standardize of cholesterol\n",
    "df['cholesterol'] = stats.zscore(df.cholesterol, nan_policy='omit')\n",
    "df.cholesterol"
   ]
  },
  {
   "cell_type": "code",
   "execution_count": 86,
   "id": "18ae68fa",
   "metadata": {},
   "outputs": [
    {
     "data": {
      "text/plain": [
       "0     -0.562335\n",
       "1     -0.135401\n",
       "2     -0.562335\n",
       "3      2.319472\n",
       "4      2.327397\n",
       "         ...   \n",
       "956   -0.562335\n",
       "957   -0.562335\n",
       "958   -0.562335\n",
       "959   -0.562335\n",
       "960   -0.562335\n",
       "Name: saturated_fat_per_gram, Length: 961, dtype: float64"
      ]
     },
     "execution_count": 86,
     "metadata": {},
     "output_type": "execute_result"
    }
   ],
   "source": [
    "# show Standardize of saturated_fat_per_gram\n",
    "df['saturated_fat_per_gram'] = stats.zscore(df.saturated_fat_per_gram, nan_policy='omit')\n",
    "df.saturated_fat_per_gram"
   ]
  },
  {
   "cell_type": "code",
   "execution_count": null,
   "id": "9e8fb479",
   "metadata": {},
   "outputs": [],
   "source": []
  }
 ],
 "metadata": {
  "kernelspec": {
   "display_name": "Python 3 (ipykernel)",
   "language": "python",
   "name": "python3"
  },
  "language_info": {
   "codemirror_mode": {
    "name": "ipython",
    "version": 3
   },
   "file_extension": ".py",
   "mimetype": "text/x-python",
   "name": "python",
   "nbconvert_exporter": "python",
   "pygments_lexer": "ipython3",
   "version": "3.9.7"
  }
 },
 "nbformat": 4,
 "nbformat_minor": 5
}
