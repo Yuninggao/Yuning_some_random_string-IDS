{
 "cells": [
  {
   "cell_type": "code",
   "execution_count": 1,
   "id": "d2e73e51",
   "metadata": {},
   "outputs": [
    {
     "data": {
      "text/html": [
       "<div>\n",
       "<style scoped>\n",
       "    .dataframe tbody tr th:only-of-type {\n",
       "        vertical-align: middle;\n",
       "    }\n",
       "\n",
       "    .dataframe tbody tr th {\n",
       "        vertical-align: top;\n",
       "    }\n",
       "\n",
       "    .dataframe thead th {\n",
       "        text-align: right;\n",
       "    }\n",
       "</style>\n",
       "<table border=\"1\" class=\"dataframe\">\n",
       "  <thead>\n",
       "    <tr style=\"text-align: right;\">\n",
       "      <th></th>\n",
       "      <th>Type</th>\n",
       "      <th>Alcohol_flag</th>\n",
       "      <th>Sugar_flag</th>\n",
       "    </tr>\n",
       "  </thead>\n",
       "  <tbody>\n",
       "    <tr>\n",
       "      <th>0</th>\n",
       "      <td>Red</td>\n",
       "      <td>High</td>\n",
       "      <td>High</td>\n",
       "    </tr>\n",
       "    <tr>\n",
       "      <th>1</th>\n",
       "      <td>Red</td>\n",
       "      <td>High</td>\n",
       "      <td>Low</td>\n",
       "    </tr>\n",
       "    <tr>\n",
       "      <th>2</th>\n",
       "      <td>Red</td>\n",
       "      <td>Low</td>\n",
       "      <td>High</td>\n",
       "    </tr>\n",
       "    <tr>\n",
       "      <th>3</th>\n",
       "      <td>Red</td>\n",
       "      <td>High</td>\n",
       "      <td>Low</td>\n",
       "    </tr>\n",
       "    <tr>\n",
       "      <th>4</th>\n",
       "      <td>Red</td>\n",
       "      <td>Low</td>\n",
       "      <td>Low</td>\n",
       "    </tr>\n",
       "    <tr>\n",
       "      <th>...</th>\n",
       "      <td>...</td>\n",
       "      <td>...</td>\n",
       "      <td>...</td>\n",
       "    </tr>\n",
       "    <tr>\n",
       "      <th>3340</th>\n",
       "      <td>White</td>\n",
       "      <td>High</td>\n",
       "      <td>High</td>\n",
       "    </tr>\n",
       "    <tr>\n",
       "      <th>3341</th>\n",
       "      <td>White</td>\n",
       "      <td>High</td>\n",
       "      <td>Low</td>\n",
       "    </tr>\n",
       "    <tr>\n",
       "      <th>3342</th>\n",
       "      <td>White</td>\n",
       "      <td>High</td>\n",
       "      <td>Low</td>\n",
       "    </tr>\n",
       "    <tr>\n",
       "      <th>3343</th>\n",
       "      <td>White</td>\n",
       "      <td>High</td>\n",
       "      <td>Low</td>\n",
       "    </tr>\n",
       "    <tr>\n",
       "      <th>3344</th>\n",
       "      <td>White</td>\n",
       "      <td>High</td>\n",
       "      <td>Low</td>\n",
       "    </tr>\n",
       "  </tbody>\n",
       "</table>\n",
       "<p>3345 rows × 3 columns</p>\n",
       "</div>"
      ],
      "text/plain": [
       "       Type Alcohol_flag Sugar_flag\n",
       "0       Red         High       High\n",
       "1       Red         High        Low\n",
       "2       Red          Low       High\n",
       "3       Red         High        Low\n",
       "4       Red          Low        Low\n",
       "...     ...          ...        ...\n",
       "3340  White         High       High\n",
       "3341  White         High        Low\n",
       "3342  White         High        Low\n",
       "3343  White         High        Low\n",
       "3344  White         High        Low\n",
       "\n",
       "[3345 rows x 3 columns]"
      ]
     },
     "execution_count": 1,
     "metadata": {},
     "output_type": "execute_result"
    }
   ],
   "source": [
    "# import library pandas and numpy and read the csv file and print it\n",
    "\n",
    "import pandas as pd\n",
    "import numpy as np\n",
    "\n",
    "df=pd.read_csv(\"https://raw.githubusercontent.com/bforoura/IDS/main/HW5/wine_flag_all.csv\")\n",
    "\n",
    "df\n"
   ]
  },
  {
   "cell_type": "code",
   "execution_count": 2,
   "id": "653cf89f",
   "metadata": {},
   "outputs": [
    {
     "name": "stdout",
     "output_type": "stream",
     "text": [
      "       Type Alcohol_flag Sugar_flag\n",
      "0       Red         High       High\n",
      "1       Red         High        Low\n",
      "2       Red          Low       High\n",
      "3       Red         High        Low\n",
      "4       Red          Low        Low\n",
      "...     ...          ...        ...\n",
      "3340  White         High       High\n",
      "3341  White         High        Low\n",
      "3342  White         High        Low\n",
      "3343  White         High        Low\n",
      "3344  White         High        Low\n",
      "\n",
      "[3345 rows x 3 columns]\n",
      "      Type  Alcohol_flag  Sugar_flag\n",
      "0        0             0           0\n",
      "1        0             0           1\n",
      "2        0             1           0\n",
      "3        0             0           1\n",
      "4        0             1           1\n",
      "...    ...           ...         ...\n",
      "3340     1             0           0\n",
      "3341     1             0           1\n",
      "3342     1             0           1\n",
      "3343     1             0           1\n",
      "3344     1             0           1\n",
      "\n",
      "[3345 rows x 3 columns]\n"
     ]
    }
   ],
   "source": [
    "# type: 0 is red, 1 is white. alcohol and sugar, 0 is high and 1 is low\n",
    "# create a  dataframe between 0 and 1\n",
    "# using a loop to test\n",
    "# encode all categoric attribute \n",
    "\n",
    "from sklearn import preprocessing\n",
    "le = preprocessing.LabelEncoder()\n",
    "\n",
    "encoded_df = pd.DataFrame()\n",
    "\n",
    "for i in range(0, df.shape[1]):\n",
    "    if df.dtypes[i]=='object' or df.dtypes[i]=='bool':\n",
    "        encoded_df[df.columns[i]] = le.fit_transform(df[df.columns[i]])\n",
    "        \n",
    "print(df)\n",
    "\n",
    "print(encoded_df)\n",
    "\n"
   ]
  },
  {
   "cell_type": "code",
   "execution_count": 3,
   "id": "9ebee377",
   "metadata": {},
   "outputs": [
    {
     "data": {
      "text/plain": [
       "Type            0\n",
       "Alcohol_flag    0\n",
       "Sugar_flag      0\n",
       "dtype: int64"
      ]
     },
     "execution_count": 3,
     "metadata": {},
     "output_type": "execute_result"
    }
   ],
   "source": [
    "# test whether is there any missing value, false means there is no missing value\n",
    "df.isnull().sum()\n",
    "\n"
   ]
  },
  {
   "cell_type": "code",
   "execution_count": 4,
   "id": "b8465ccf",
   "metadata": {},
   "outputs": [
    {
     "data": {
      "text/html": [
       "<div>\n",
       "<style scoped>\n",
       "    .dataframe tbody tr th:only-of-type {\n",
       "        vertical-align: middle;\n",
       "    }\n",
       "\n",
       "    .dataframe tbody tr th {\n",
       "        vertical-align: top;\n",
       "    }\n",
       "\n",
       "    .dataframe thead th {\n",
       "        text-align: right;\n",
       "    }\n",
       "</style>\n",
       "<table border=\"1\" class=\"dataframe\">\n",
       "  <thead>\n",
       "    <tr style=\"text-align: right;\">\n",
       "      <th>Alcohol_flag</th>\n",
       "      <th>High</th>\n",
       "      <th>Low</th>\n",
       "      <th>All</th>\n",
       "    </tr>\n",
       "    <tr>\n",
       "      <th>Type</th>\n",
       "      <th></th>\n",
       "      <th></th>\n",
       "      <th></th>\n",
       "    </tr>\n",
       "  </thead>\n",
       "  <tbody>\n",
       "    <tr>\n",
       "      <th>Red</th>\n",
       "      <td>485</td>\n",
       "      <td>600</td>\n",
       "      <td>1085</td>\n",
       "    </tr>\n",
       "    <tr>\n",
       "      <th>White</th>\n",
       "      <td>1176</td>\n",
       "      <td>1084</td>\n",
       "      <td>2260</td>\n",
       "    </tr>\n",
       "    <tr>\n",
       "      <th>All</th>\n",
       "      <td>1661</td>\n",
       "      <td>1684</td>\n",
       "      <td>3345</td>\n",
       "    </tr>\n",
       "  </tbody>\n",
       "</table>\n",
       "</div>"
      ],
      "text/plain": [
       "Alcohol_flag  High   Low   All\n",
       "Type                          \n",
       "Red            485   600  1085\n",
       "White         1176  1084  2260\n",
       "All           1661  1684  3345"
      ]
     },
     "execution_count": 4,
     "metadata": {},
     "output_type": "execute_result"
    }
   ],
   "source": [
    "# create the contigency table and cross tabulation of type and alcohol\n",
    "ctab = pd.crosstab( df.Type,df.Alcohol_flag,margins=True)\n",
    "ctab\n"
   ]
  },
  {
   "cell_type": "code",
   "execution_count": 5,
   "id": "34b25ff8",
   "metadata": {},
   "outputs": [
    {
     "data": {
      "image/png": "[encoded data removed]",
      "text/plain": [
       "<Figure size 432x288 with 1 Axes>"
      ]
     },
     "metadata": {
      "needs_background": "light"
     },
     "output_type": "display_data"
    }
   ],
   "source": [
    "# create a barplot of tpye and alcohol\n",
    "\n",
    "barplot=ctab.plot.bar(rot=50)\n",
    "\n"
   ]
  },
  {
   "cell_type": "code",
   "execution_count": 7,
   "id": "d103ee27",
   "metadata": {},
   "outputs": [
    {
     "data": {
      "text/html": [
       "<div>\n",
       "<style scoped>\n",
       "    .dataframe tbody tr th:only-of-type {\n",
       "        vertical-align: middle;\n",
       "    }\n",
       "\n",
       "    .dataframe tbody tr th {\n",
       "        vertical-align: top;\n",
       "    }\n",
       "\n",
       "    .dataframe thead th {\n",
       "        text-align: right;\n",
       "    }\n",
       "</style>\n",
       "<table border=\"1\" class=\"dataframe\">\n",
       "  <thead>\n",
       "    <tr style=\"text-align: right;\">\n",
       "      <th>Sugar_flag</th>\n",
       "      <th>High</th>\n",
       "      <th>Low</th>\n",
       "      <th>All</th>\n",
       "    </tr>\n",
       "    <tr>\n",
       "      <th>Type</th>\n",
       "      <th></th>\n",
       "      <th></th>\n",
       "      <th></th>\n",
       "    </tr>\n",
       "  </thead>\n",
       "  <tbody>\n",
       "    <tr>\n",
       "      <th>Red</th>\n",
       "      <td>237</td>\n",
       "      <td>848</td>\n",
       "      <td>1085</td>\n",
       "    </tr>\n",
       "    <tr>\n",
       "      <th>White</th>\n",
       "      <td>1382</td>\n",
       "      <td>878</td>\n",
       "      <td>2260</td>\n",
       "    </tr>\n",
       "    <tr>\n",
       "      <th>All</th>\n",
       "      <td>1619</td>\n",
       "      <td>1726</td>\n",
       "      <td>3345</td>\n",
       "    </tr>\n",
       "  </tbody>\n",
       "</table>\n",
       "</div>"
      ],
      "text/plain": [
       "Sugar_flag  High   Low   All\n",
       "Type                        \n",
       "Red          237   848  1085\n",
       "White       1382   878  2260\n",
       "All         1619  1726  3345"
      ]
     },
     "execution_count": 7,
     "metadata": {},
     "output_type": "execute_result"
    }
   ],
   "source": [
    "# create the contigency table and cross tabulation of type and sugar\n",
    "ctab_2 = pd.crosstab( df.Type,df.Sugar_flag,margins=True)\n",
    "ctab_2\n"
   ]
  },
  {
   "cell_type": "code",
   "execution_count": 8,
   "id": "4e080fc0",
   "metadata": {},
   "outputs": [
    {
     "data": {
      "image/png": "[encoded data removed]",
      "text/plain": [
       "<Figure size 432x288 with 1 Axes>"
      ]
     },
     "metadata": {
      "needs_background": "light"
     },
     "output_type": "display_data"
    }
   ],
   "source": [
    "# create a barplot of  type and sugar\n",
    "barplot=ctab_2.plot.bar(rot=50)\n"
   ]
  },
  {
   "cell_type": "code",
   "execution_count": 10,
   "id": "a7af1cbd",
   "metadata": {},
   "outputs": [
    {
     "data": {
      "text/plain": [
       "0.33505667130642275"
      ]
     },
     "execution_count": 10,
     "metadata": {},
     "output_type": "execute_result"
    }
   ],
   "source": [
    "# calculate the probability of red wine, using total of red / total of wine\n",
    "#from alcohol contigency table\n",
    "prior_red = (ctab.iloc[0,1]+ctab.iloc[0,2])/(ctab.iloc[2,1]+ctab.iloc[2,2])\n",
    "prior_red\n"
   ]
  },
  {
   "cell_type": "code",
   "execution_count": 11,
   "id": "0f9da3e7",
   "metadata": {},
   "outputs": [
    {
     "data": {
      "text/plain": [
       "0.6649433286935773"
      ]
     },
     "execution_count": 11,
     "metadata": {},
     "output_type": "execute_result"
    }
   ],
   "source": [
    "# calculate the probability of white wine, using total of white / total of wine\n",
    "#from alcohol contigency table\n",
    "prior_white = (ctab.iloc[1,1]+ctab.iloc[1,2])/(ctab.iloc[2,1]+ctab.iloc[2,2])\n",
    "prior_white\n"
   ]
  },
  {
   "cell_type": "code",
   "execution_count": 12,
   "id": "834d6911",
   "metadata": {},
   "outputs": [
    {
     "data": {
      "text/plain": [
       "0.33485782461722013"
      ]
     },
     "execution_count": 12,
     "metadata": {},
     "output_type": "execute_result"
    }
   ],
   "source": [
    "#calculate the probability of high alcohol, using total of high / total of high + low\n",
    "#from alcohol contigency table\n",
    "prior_achol__high = (ctab.iloc[2,1])/(ctab.iloc[2,1]+ctab.iloc[2,2])\n",
    "prior_achol__high\n"
   ]
  },
  {
   "cell_type": "code",
   "execution_count": 14,
   "id": "21258724",
   "metadata": {},
   "outputs": [
    {
     "data": {
      "text/plain": [
       "0.6651421753827799"
      ]
     },
     "execution_count": 14,
     "metadata": {},
     "output_type": "execute_result"
    }
   ],
   "source": [
    "#calculate the probability of low alcohol, using total of low / total of high + low\n",
    "#from alcohol contigency table\n",
    "prior_achol__low = (ctab.iloc[2,2])/(ctab.iloc[2,1]+ctab.iloc[2,2])\n",
    "prior_achol__low\n",
    "\n"
   ]
  },
  {
   "cell_type": "code",
   "execution_count": 15,
   "id": "c4e2bc64",
   "metadata": {},
   "outputs": [
    {
     "data": {
      "text/plain": [
       "0.3403667915598501"
      ]
     },
     "execution_count": 15,
     "metadata": {},
     "output_type": "execute_result"
    }
   ],
   "source": [
    "#calculate the probability of high sugar, using total of high / total of high + low\n",
    "# from sugar contigency table\n",
    "prior_sugar_high = (ctab_2.iloc[2,1])/(ctab_2.iloc[2,1]+ctab_2.iloc[2,2])\n",
    "prior_sugar_high\n"
   ]
  },
  {
   "cell_type": "code",
   "execution_count": 16,
   "id": "076940b9",
   "metadata": {},
   "outputs": [
    {
     "data": {
      "text/plain": [
       "0.6596332084401498"
      ]
     },
     "execution_count": 16,
     "metadata": {},
     "output_type": "execute_result"
    }
   ],
   "source": [
    "#calculate the probability of low sugar, using total of low / total of high + low \n",
    "#from sugar contigency table\n",
    "\n",
    "prior_sugar_low= (ctab_2.iloc[2,2])/(ctab_2.iloc[2,1]+ctab_2.iloc[2,2])\n",
    "prior_sugar_low\n"
   ]
  },
  {
   "cell_type": "code",
   "execution_count": 17,
   "id": "0e22fec8",
   "metadata": {},
   "outputs": [
    {
     "data": {
      "text/plain": [
       "0.11219634807715569"
      ]
     },
     "execution_count": 17,
     "metadata": {},
     "output_type": "execute_result"
    }
   ],
   "source": [
    "# calculate the conditional probabilities p(Alcohol_flag = High ∣ Type = Red)\n",
    "\n",
    "conditional_red_hig=(ctab.iloc[0,1]+ctab.iloc[0,2])/(ctab.iloc[2,1]+ctab.iloc[2,2]) * ((ctab.iloc[2,1])/(ctab.iloc[2,1]+ctab.iloc[2,2]))\n",
    "\n",
    "conditional_red_hig\n"
   ]
  },
  {
   "cell_type": "code",
   "execution_count": 18,
   "id": "897e7368",
   "metadata": {},
   "outputs": [
    {
     "data": {
      "text/plain": [
       "0.22286032322926708"
      ]
     },
     "execution_count": 18,
     "metadata": {},
     "output_type": "execute_result"
    }
   ],
   "source": [
    "# calculate the conditional probabilities p(Alcohol_flag = low ∣ Type = Red)\n",
    "\n",
    "conditional_red_low=(ctab.iloc[0,1]+ctab.iloc[0,2])/(ctab.iloc[2,1]+ctab.iloc[2,2])*((ctab.iloc[2,2])/(ctab.iloc[2,1]+ctab.iloc[2,2]))\n",
    "\n",
    "conditional_red_low  \n"
   ]
  },
  {
   "cell_type": "code",
   "execution_count": 19,
   "id": "5c082043",
   "metadata": {},
   "outputs": [
    {
     "data": {
      "text/plain": [
       "0.12974344470226587"
      ]
     },
     "execution_count": 19,
     "metadata": {},
     "output_type": "execute_result"
    }
   ],
   "source": [
    "# calculate the conditional probabilities p(sugar_flag = high ∣ Type = Red)\n",
    "\n",
    "conditional_Sred_hig= (ctab_2.iloc[0,1]+ctab_2.iloc[0,2])/(ctab_2.iloc[2,1]+ctab_2.iloc[2,2]) *((ctab_2.iloc[2,1])/(ctab_2.iloc[2,1]+ctab_2.iloc[2,2]))\n",
    "\n",
    "conditional_Sred_hig\n"
   ]
  },
  {
   "cell_type": "code",
   "execution_count": 20,
   "id": "2f55ff88",
   "metadata": {},
   "outputs": [
    {
     "data": {
      "text/plain": [
       "0.2535436452405666"
      ]
     },
     "execution_count": 20,
     "metadata": {},
     "output_type": "execute_result"
    }
   ],
   "source": [
    "# calculate the conditional probabilities p(sugar_flag = low ∣ Type = Red)\n",
    "\n",
    "conditional_Sred_low= (ctab_2.iloc[0,1]+ctab_2.iloc[0,2])/(ctab.iloc[2,1]+ctab_2.iloc[2,2]) *((ctab_2.iloc[2,2])/(ctab_2.iloc[2,1]+ctab_2.iloc[2,2]))\n",
    "\n",
    "conditional_Sred_low\n"
   ]
  },
  {
   "cell_type": "code",
   "execution_count": 21,
   "id": "9ca0883c",
   "metadata": {},
   "outputs": [
    {
     "name": "stdout",
     "output_type": "stream",
     "text": [
      "      Type  Alcohol_flag\n",
      "1783     1             1\n",
      "110      0             1\n",
      "2936     1             0\n",
      "2326     1             1\n",
      "612      1             1\n",
      "...    ...           ...\n",
      "3074     1             0\n",
      "2259     1             1\n",
      "1524     0             0\n",
      "1629     1             1\n",
      "512      1             1\n",
      "\n",
      "[2676 rows x 2 columns]\n",
      "      Type  Alcohol_flag\n",
      "1779     1             1\n",
      "3176     1             0\n",
      "2544     1             0\n",
      "1470     0             0\n",
      "810      1             0\n",
      "...    ...           ...\n",
      "1979     1             1\n",
      "2923     1             0\n",
      "1518     0             0\n",
      "998      1             1\n",
      "1342     0             0\n",
      "\n",
      "[669 rows x 2 columns]\n"
     ]
    }
   ],
   "source": [
    "from sklearn.naive_bayes import GaussianNB\n",
    "from sklearn.model_selection import train_test_split\n",
    "\n",
    "#Create a Gaussian Classifier\n",
    "NBmodel = GaussianNB()\n",
    "\n",
    "# Prepare input and output \n",
    "X = encoded_df.iloc[:,0:2]\n",
    "y = encoded_df.iloc[:,2]\n",
    "\n",
    "# In order to have the same proportion of 0 and 1 classes in a dataset to train, use 'stratify'\n",
    "X_train, X_test, y_train, y_test = \\\n",
    "    train_test_split(X, y, random_state=42, shuffle=True, test_size=0.2, stratify=y)\n",
    "\n",
    "# show the sets\n",
    "print(X_train)\n",
    "print(X_test)\n"
   ]
  },
  {
   "cell_type": "code",
   "execution_count": 22,
   "id": "31e849a5",
   "metadata": {},
   "outputs": [
    {
     "data": {
      "image/png": "[encoded data removed]",
      "text/plain": [
       "<Figure size 432x288 with 1 Axes>"
      ]
     },
     "metadata": {
      "needs_background": "light"
     },
     "output_type": "display_data"
    }
   ],
   "source": [
    "import matplotlib.pyplot as plt\n",
    "\n",
    "# Train the model \n",
    "NBmodel.fit(X_train, y_train)\n",
    "\n",
    "# Calculate model accuracy on both training and test data\n",
    "labels = [\"Training\", \"Test\"]\n",
    "scores = [NBmodel.score(X_train, y_train), NBmodel.score(X_test, y_test)]\n",
    "\n",
    "\n",
    "# Plot the accuracy claues\n",
    "fig = plt.figure()\n",
    "ax = fig.add_axes([0,0,1,1])\n",
    "ax.set_title('Model Classification Accuary on Training vs. Test Data')\n",
    "ax.bar(labels, scores, color=\"orange\")\n",
    "ax.set_ylim(0, 1)\n",
    "plt.show()\n",
    "\n"
   ]
  },
  {
   "cell_type": "code",
   "execution_count": 23,
   "id": "88232490",
   "metadata": {},
   "outputs": [
    {
     "name": "stdout",
     "output_type": "stream",
     "text": [
      "      Type  Alcohol_flag\n",
      "3303     1             0\n",
      "1633     1             1\n",
      "813      1             0\n",
      "2700     1             0\n",
      "2594     1             0\n",
      "...    ...           ...\n",
      "626      1             1\n",
      "2259     1             1\n",
      "3002     1             0\n",
      "1033     0             1\n",
      "512      1             1\n",
      "\n",
      "[2508 rows x 2 columns]\n",
      "      Type  Alcohol_flag\n",
      "1065     0             1\n",
      "1160     0             1\n",
      "816      1             1\n",
      "1468     0             0\n",
      "876      1             0\n",
      "...    ...           ...\n",
      "1899     1             1\n",
      "1886     1             1\n",
      "2003     1             1\n",
      "499      0             0\n",
      "640      1             0\n",
      "\n",
      "[837 rows x 2 columns]\n"
     ]
    }
   ],
   "source": [
    "from sklearn.naive_bayes import GaussianNB\n",
    "from sklearn.model_selection import train_test_split\n",
    "\n",
    "#Create a Gaussian Classifier\n",
    "NBmodel = GaussianNB()\n",
    "\n",
    "# Prepare input and output \n",
    "X = encoded_df.iloc[:,0:2]\n",
    "y = encoded_df.iloc[:,2]\n",
    "\n",
    "# In order to have the same proportion of 0 and 1 classes in a dataset to train, use 'stratify'\n",
    "X_train, X_test, y_train, y_test = \\\n",
    "    train_test_split(X, y, random_state=42, shuffle=True, test_size=0.25, stratify=y)\n",
    "\n",
    "# show the sets\n",
    "print(X_train)\n",
    "print(X_test)\n"
   ]
  },
  {
   "cell_type": "code",
   "execution_count": 24,
   "id": "fdfe78ca",
   "metadata": {},
   "outputs": [
    {
     "data": {
      "image/png": "[encoded data removed]",
      "text/plain": [
       "<Figure size 432x288 with 1 Axes>"
      ]
     },
     "metadata": {
      "needs_background": "light"
     },
     "output_type": "display_data"
    }
   ],
   "source": [
    "import matplotlib.pyplot as plt\n",
    "\n",
    "# Train the model \n",
    "NBmodel.fit(X_train, y_train)\n",
    "\n",
    "# Calculate model accuracy on both training and test data\n",
    "labels = [\"Training\", \"Test\"]\n",
    "scores = [NBmodel.score(X_train, y_train), NBmodel.score(X_test, y_test)]\n",
    "\n",
    "\n",
    "# Plot the accuracy claues\n",
    "fig = plt.figure()\n",
    "ax = fig.add_axes([0,0,1,1])\n",
    "ax.set_title('Model Classification Accuary on Training vs. Test Data')\n",
    "ax.bar(labels, scores, color=\"orange\")\n",
    "ax.set_ylim(0, 1)\n",
    "plt.show()"
   ]
  },
  {
   "cell_type": "code",
   "execution_count": 25,
   "id": "687c69e4",
   "metadata": {},
   "outputs": [
    {
     "name": "stdout",
     "output_type": "stream",
     "text": [
      "      Type  Alcohol_flag\n",
      "833      1             1\n",
      "1582     0             0\n",
      "469      0             1\n",
      "2489     1             0\n",
      "2099     1             1\n",
      "...    ...           ...\n",
      "2947     1             0\n",
      "2808     1             0\n",
      "2259     1             1\n",
      "227      0             1\n",
      "512      1             1\n",
      "\n",
      "[2341 rows x 2 columns]\n",
      "      Type  Alcohol_flag\n",
      "549      1             1\n",
      "3199     1             0\n",
      "1028     0             1\n",
      "2959     1             0\n",
      "2653     1             0\n",
      "...    ...           ...\n",
      "3029     1             0\n",
      "486      0             1\n",
      "2342     1             1\n",
      "2800     1             0\n",
      "446      0             1\n",
      "\n",
      "[1004 rows x 2 columns]\n"
     ]
    }
   ],
   "source": [
    "from sklearn.naive_bayes import GaussianNB\n",
    "from sklearn.model_selection import train_test_split\n",
    "\n",
    "#Create a Gaussian Classifier\n",
    "NBmodel = GaussianNB()\n",
    "\n",
    "# Prepare input and output \n",
    "X = encoded_df.iloc[:,0:2]\n",
    "y = encoded_df.iloc[:,2]\n",
    "\n",
    "# In order to have the same proportion of 0 and 1 classes in a dataset to train, use 'stratify'\n",
    "X_train, X_test, y_train, y_test = \\\n",
    "    train_test_split(X, y, random_state=42, shuffle=True, test_size=0.3, stratify=y)\n",
    "\n",
    "# show the sets\n",
    "print(X_train)\n",
    "print(X_test)\n"
   ]
  },
  {
   "cell_type": "code",
   "execution_count": 26,
   "id": "8ba282ea",
   "metadata": {},
   "outputs": [
    {
     "data": {
      "image/png": "[encoded data removed]",
      "text/plain": [
       "<Figure size 432x288 with 1 Axes>"
      ]
     },
     "metadata": {
      "needs_background": "light"
     },
     "output_type": "display_data"
    }
   ],
   "source": [
    "import matplotlib.pyplot as plt\n",
    "\n",
    "# Train the model \n",
    "NBmodel.fit(X_train, y_train)\n",
    "\n",
    "# Calculate model accuracy on both training and test data\n",
    "labels = [\"Training\", \"Test\"]\n",
    "scores = [NBmodel.score(X_train, y_train), NBmodel.score(X_test, y_test)]\n",
    "\n",
    "\n",
    "# Plot the accuracy claues\n",
    "fig = plt.figure()\n",
    "ax = fig.add_axes([0,0,1,1])\n",
    "ax.set_title('Model Classification Accuary on Training vs. Test Data')\n",
    "ax.bar(labels, scores, color=\"orange\")\n",
    "ax.set_ylim(0, 1)\n",
    "plt.show()"
   ]
  },
  {
   "cell_type": "code",
   "execution_count": 27,
   "id": "1b06f023",
   "metadata": {},
   "outputs": [
    {
     "name": "stdout",
     "output_type": "stream",
     "text": [
      "      Type  Alcohol_flag\n",
      "1927     1             1\n",
      "547      1             0\n",
      "1742     1             1\n",
      "360      0             1\n",
      "424      0             1\n",
      "...    ...           ...\n",
      "2454     1             0\n",
      "2259     1             1\n",
      "2855     1             0\n",
      "325      0             1\n",
      "512      1             1\n",
      "\n",
      "[2007 rows x 2 columns]\n",
      "      Type  Alcohol_flag\n",
      "3340     1             0\n",
      "89       0             1\n",
      "904      1             0\n",
      "2360     1             1\n",
      "301      0             1\n",
      "...    ...           ...\n",
      "2839     1             0\n",
      "1333     0             0\n",
      "594      1             1\n",
      "2814     1             0\n",
      "2321     1             1\n",
      "\n",
      "[1338 rows x 2 columns]\n"
     ]
    }
   ],
   "source": [
    "from sklearn.naive_bayes import GaussianNB\n",
    "from sklearn.model_selection import train_test_split\n",
    "\n",
    "#Create a Gaussian Classifier\n",
    "NBmodel = GaussianNB()\n",
    "\n",
    "# Prepare input and output \n",
    "X = encoded_df.iloc[:,0:2]\n",
    "y = encoded_df.iloc[:,2]\n",
    "\n",
    "# In order to have the same proportion of 0 and 1 classes in a dataset to train, use 'stratify'\n",
    "X_train, X_test, y_train, y_test = \\\n",
    "    train_test_split(X, y, random_state=42, shuffle=True, test_size=0.4, stratify=y)\n",
    "\n",
    "# show the sets\n",
    "print(X_train)\n",
    "print(X_test)\n"
   ]
  },
  {
   "cell_type": "code",
   "execution_count": 28,
   "id": "e018e2fa",
   "metadata": {},
   "outputs": [
    {
     "data": {
      "image/png": "[encoded data removed]",
      "text/plain": [
       "<Figure size 432x288 with 1 Axes>"
      ]
     },
     "metadata": {
      "needs_background": "light"
     },
     "output_type": "display_data"
    }
   ],
   "source": [
    "import matplotlib.pyplot as plt\n",
    "\n",
    "# Train the model \n",
    "NBmodel.fit(X_train, y_train)\n",
    "\n",
    "# Calculate model accuracy on both training and test data\n",
    "labels = [\"Training\", \"Test\"]\n",
    "scores = [NBmodel.score(X_train, y_train), NBmodel.score(X_test, y_test)]\n",
    "\n",
    "\n",
    "# Plot the accuracy claues\n",
    "fig = plt.figure()\n",
    "ax = fig.add_axes([0,0,1,1])\n",
    "ax.set_title('Model Classification Accuary on Training vs. Test Data')\n",
    "ax.bar(labels, scores, color=\"orange\")\n",
    "ax.set_ylim(0, 1)\n",
    "plt.show()"
   ]
  },
  {
   "cell_type": "code",
   "execution_count": 29,
   "id": "8f748e4a",
   "metadata": {},
   "outputs": [
    {
     "name": "stdout",
     "output_type": "stream",
     "text": [
      "      Type  Alcohol_flag\n",
      "25       0             1\n",
      "2489     1             0\n",
      "583      1             0\n",
      "1396     0             0\n",
      "2032     1             1\n",
      "...    ...           ...\n",
      "2499     1             0\n",
      "238      0             0\n",
      "2855     1             0\n",
      "2795     1             0\n",
      "908      1             0\n",
      "\n",
      "[1672 rows x 2 columns]\n",
      "      Type  Alcohol_flag\n",
      "1881     1             1\n",
      "1957     1             1\n",
      "1589     1             1\n",
      "3038     1             0\n",
      "386      0             0\n",
      "...    ...           ...\n",
      "2985     1             0\n",
      "2615     1             0\n",
      "42       0             1\n",
      "2580     1             0\n",
      "2914     1             0\n",
      "\n",
      "[1673 rows x 2 columns]\n"
     ]
    }
   ],
   "source": [
    "from sklearn.naive_bayes import GaussianNB\n",
    "from sklearn.model_selection import train_test_split\n",
    "\n",
    "#Create a Gaussian Classifier\n",
    "NBmodel = GaussianNB()\n",
    "\n",
    "# Prepare input and output \n",
    "X = encoded_df.iloc[:,0:2]\n",
    "y = encoded_df.iloc[:,2]\n",
    "\n",
    "# In order to have the same proportion of 0 and 1 classes in a dataset to train, use 'stratify'\n",
    "X_train, X_test, y_train, y_test = \\\n",
    "    train_test_split(X, y, random_state=42, shuffle=True, test_size=0.5, stratify=y)\n",
    "\n",
    "# show the sets\n",
    "print(X_train)\n",
    "print(X_test)\n"
   ]
  },
  {
   "cell_type": "code",
   "execution_count": 30,
   "id": "c74f8f4b",
   "metadata": {},
   "outputs": [
    {
     "data": {
      "image/png": "[encoded data removed]",
      "text/plain": [
       "<Figure size 432x288 with 1 Axes>"
      ]
     },
     "metadata": {
      "needs_background": "light"
     },
     "output_type": "display_data"
    }
   ],
   "source": [
    "import matplotlib.pyplot as plt\n",
    "\n",
    "# Train the model \n",
    "NBmodel.fit(X_train, y_train)\n",
    "\n",
    "# Calculate model accuracy on both training and test data\n",
    "labels = [\"Training\", \"Test\"]\n",
    "scores = [NBmodel.score(X_train, y_train), NBmodel.score(X_test, y_test)]\n",
    "\n",
    "\n",
    "# Plot the accuracy claues\n",
    "fig = plt.figure()\n",
    "ax = fig.add_axes([0,0,1,1])\n",
    "ax.set_title('Model Classification Accuary on Training vs. Test Data')\n",
    "ax.bar(labels, scores, color=\"orange\")\n",
    "ax.set_ylim(0, 1)\n",
    "plt.show()"
   ]
  },
  {
   "cell_type": "code",
   "execution_count": null,
   "id": "aad97f70",
   "metadata": {},
   "outputs": [],
   "source": []
  },
  {
   "cell_type": "code",
   "execution_count": null,
   "id": "2a8fe74c",
   "metadata": {},
   "outputs": [],
   "source": []
  },
  {
   "cell_type": "code",
   "execution_count": null,
   "id": "9d8b2646",
   "metadata": {},
   "outputs": [],
   "source": []
  },
  {
   "cell_type": "code",
   "execution_count": null,
   "id": "bab802d6",
   "metadata": {},
   "outputs": [],
   "source": []
  },
  {
   "cell_type": "code",
   "execution_count": null,
   "id": "52cbd47f",
   "metadata": {},
   "outputs": [],
   "source": []
  },
  {
   "cell_type": "code",
   "execution_count": null,
   "id": "f2087ad8",
   "metadata": {},
   "outputs": [],
   "source": []
  },
  {
   "cell_type": "code",
   "execution_count": null,
   "id": "92961e1b",
   "metadata": {},
   "outputs": [],
   "source": []
  },
  {
   "cell_type": "code",
   "execution_count": null,
   "id": "fa25a6c6",
   "metadata": {},
   "outputs": [],
   "source": []
  },
  {
   "cell_type": "code",
   "execution_count": null,
   "id": "8290e328",
   "metadata": {},
   "outputs": [],
   "source": []
  }
 ],
 "metadata": {
  "kernelspec": {
   "display_name": "Python 3 (ipykernel)",
   "language": "python",
   "name": "python3"
  },
  "language_info": {
   "codemirror_mode": {
    "name": "ipython",
    "version": 3
   },
   "file_extension": ".py",
   "mimetype": "text/x-python",
   "name": "python",
   "nbconvert_exporter": "python",
   "pygments_lexer": "ipython3",
   "version": "3.9.7"
  }
 },
 "nbformat": 4,
 "nbformat_minor": 5
}
